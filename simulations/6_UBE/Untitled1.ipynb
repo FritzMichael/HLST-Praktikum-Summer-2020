{
 "cells": [
  {
   "cell_type": "code",
   "execution_count": 2,
   "metadata": {},
   "outputs": [],
   "source": [
    "from sympy import *"
   ]
  },
  {
   "cell_type": "code",
   "execution_count": 7,
   "metadata": {},
   "outputs": [],
   "source": [
    "IA, R1, R2, B, rbe, UT, UBE = symbols('I_A R_1 R_2 B r_{BE} U_T U_{BE}')"
   ]
  },
  {
   "cell_type": "code",
   "execution_count": 17,
   "metadata": {},
   "outputs": [],
   "source": [
    "term2 = (IA-UBE/R2)/UT\n",
    "term4 = UT*(B+1)/(IA - UBE/R2)\n",
    "term3 = R1 + R2*(R2/term4  + 1)\n",
    "term = IA / (1 + R2*term2) * term3\n",
    "term = simplify(term)"
   ]
  },
  {
   "cell_type": "code",
   "execution_count": 18,
   "metadata": {},
   "outputs": [
    {
     "data": {
      "text/latex": [
       "$\\displaystyle \\frac{I_{A} R_{2}^{2}}{\\left(B + 1\\right) \\left(I_{A} R_{2} + U_{T} - U_{BE}\\right)} - \\frac{I_{A} R_{2} \\left(R_{1} U_{T} \\left(B + 1\\right) + R_{2} \\left(I_{A} R_{2} + U_{T} \\left(B + 1\\right) - U_{BE}\\right)\\right)}{\\left(B + 1\\right) \\left(I_{A} R_{2} + U_{T} - U_{BE}\\right)^{2}} + \\frac{R_{1} U_{T} \\left(B + 1\\right) + R_{2} \\left(I_{A} R_{2} + U_{T} \\left(B + 1\\right) - U_{BE}\\right)}{\\left(B + 1\\right) \\left(I_{A} R_{2} + U_{T} - U_{BE}\\right)}$"
      ],
      "text/plain": [
       "I_A*R_2**2/((B + 1)*(I_A*R_2 + U_T - U_{BE})) - I_A*R_2*(R_1*U_T*(B + 1) + R_2*(I_A*R_2 + U_T*(B + 1) - U_{BE}))/((B + 1)*(I_A*R_2 + U_T - U_{BE})**2) + (R_1*U_T*(B + 1) + R_2*(I_A*R_2 + U_T*(B + 1) - U_{BE}))/((B + 1)*(I_A*R_2 + U_T - U_{BE}))"
      ]
     },
     "execution_count": 18,
     "metadata": {},
     "output_type": "execute_result"
    }
   ],
   "source": [
    "diff(term, IA)"
   ]
  },
  {
   "cell_type": "code",
   "execution_count": null,
   "metadata": {},
   "outputs": [],
   "source": []
  }
 ],
 "metadata": {
  "kernelspec": {
   "display_name": "Python 3",
   "language": "python",
   "name": "python3"
  },
  "language_info": {
   "codemirror_mode": {
    "name": "ipython",
    "version": 3
   },
   "file_extension": ".py",
   "mimetype": "text/x-python",
   "name": "python",
   "nbconvert_exporter": "python",
   "pygments_lexer": "ipython3",
   "version": "3.8.3"
  }
 },
 "nbformat": 4,
 "nbformat_minor": 4
}
